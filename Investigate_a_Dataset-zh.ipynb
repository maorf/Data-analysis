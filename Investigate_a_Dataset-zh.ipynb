{
 "cells": [
  {
   "cell_type": "markdown",
   "metadata": {},
   "source": [
    "\n",
    "# 项目：调查TMDb电影数据集\n",
    "\n",
    "## 目录\n",
    "<ul>\n",
    "<li><a href=\"#intro\">简介</a></li>\n",
    "<li><a href=\"#wrangling\">数据整理</a></li>\n",
    "<li><a href=\"#eda\">探索性数据分析</a></li>\n",
    "<li><a href=\"#conclusions\">结论</a></li>\n",
    "</ul>\n",
    "\n",
    "<a id='intro'></a>\n",
    "## 简介\n",
    "\n",
    ">这是对TMDb电影数据集进行分析的一份报告。报告包含数据整理，数据分析，结论几个部分。报告根据数据集，主要对‘什么类型的电影最受大家欢迎’，‘电影的收入和什么有关’两个问题进行了研究分析。"
   ]
  },
  {
   "cell_type": "markdown",
   "metadata": {},
   "source": [
    "导入数据包和加载数据"
   ]
  },
  {
   "cell_type": "code",
   "execution_count": 1,
   "metadata": {},
   "outputs": [],
   "source": [
    "# 导入语句。\n",
    "import pandas as pd\n",
    "import numpy as np\n",
    "import matplotlib.pyplot as plt\n",
    "% matplotlib inline\n",
    "df = pd.read_csv('tmdb-movies.csv')\n"
   ]
  },
  {
   "cell_type": "markdown",
   "metadata": {},
   "source": [
    "<a id='wrangling'></a>\n",
    "## 数据整理\n",
    "\n",
    "### 常规属性"
   ]
  },
  {
   "cell_type": "code",
   "execution_count": 2,
   "metadata": {},
   "outputs": [
    {
     "data": {
      "text/html": [
       "<div>\n",
       "<style scoped>\n",
       "    .dataframe tbody tr th:only-of-type {\n",
       "        vertical-align: middle;\n",
       "    }\n",
       "\n",
       "    .dataframe tbody tr th {\n",
       "        vertical-align: top;\n",
       "    }\n",
       "\n",
       "    .dataframe thead th {\n",
       "        text-align: right;\n",
       "    }\n",
       "</style>\n",
       "<table border=\"1\" class=\"dataframe\">\n",
       "  <thead>\n",
       "    <tr style=\"text-align: right;\">\n",
       "      <th></th>\n",
       "      <th>id</th>\n",
       "      <th>imdb_id</th>\n",
       "      <th>popularity</th>\n",
       "      <th>budget</th>\n",
       "      <th>revenue</th>\n",
       "      <th>original_title</th>\n",
       "      <th>cast</th>\n",
       "      <th>homepage</th>\n",
       "      <th>director</th>\n",
       "      <th>tagline</th>\n",
       "      <th>...</th>\n",
       "      <th>overview</th>\n",
       "      <th>runtime</th>\n",
       "      <th>genres</th>\n",
       "      <th>production_companies</th>\n",
       "      <th>release_date</th>\n",
       "      <th>vote_count</th>\n",
       "      <th>vote_average</th>\n",
       "      <th>release_year</th>\n",
       "      <th>budget_adj</th>\n",
       "      <th>revenue_adj</th>\n",
       "    </tr>\n",
       "  </thead>\n",
       "  <tbody>\n",
       "    <tr>\n",
       "      <th>0</th>\n",
       "      <td>135397</td>\n",
       "      <td>tt0369610</td>\n",
       "      <td>32.985763</td>\n",
       "      <td>150000000</td>\n",
       "      <td>1513528810</td>\n",
       "      <td>Jurassic World</td>\n",
       "      <td>Chris Pratt|Bryce Dallas Howard|Irrfan Khan|Vi...</td>\n",
       "      <td>http://www.jurassicworld.com/</td>\n",
       "      <td>Colin Trevorrow</td>\n",
       "      <td>The park is open.</td>\n",
       "      <td>...</td>\n",
       "      <td>Twenty-two years after the events of Jurassic ...</td>\n",
       "      <td>124</td>\n",
       "      <td>Action|Adventure|Science Fiction|Thriller</td>\n",
       "      <td>Universal Studios|Amblin Entertainment|Legenda...</td>\n",
       "      <td>6/9/15</td>\n",
       "      <td>5562</td>\n",
       "      <td>6.5</td>\n",
       "      <td>2015</td>\n",
       "      <td>1.379999e+08</td>\n",
       "      <td>1.392446e+09</td>\n",
       "    </tr>\n",
       "    <tr>\n",
       "      <th>1</th>\n",
       "      <td>76341</td>\n",
       "      <td>tt1392190</td>\n",
       "      <td>28.419936</td>\n",
       "      <td>150000000</td>\n",
       "      <td>378436354</td>\n",
       "      <td>Mad Max: Fury Road</td>\n",
       "      <td>Tom Hardy|Charlize Theron|Hugh Keays-Byrne|Nic...</td>\n",
       "      <td>http://www.madmaxmovie.com/</td>\n",
       "      <td>George Miller</td>\n",
       "      <td>What a Lovely Day.</td>\n",
       "      <td>...</td>\n",
       "      <td>An apocalyptic story set in the furthest reach...</td>\n",
       "      <td>120</td>\n",
       "      <td>Action|Adventure|Science Fiction|Thriller</td>\n",
       "      <td>Village Roadshow Pictures|Kennedy Miller Produ...</td>\n",
       "      <td>5/13/15</td>\n",
       "      <td>6185</td>\n",
       "      <td>7.1</td>\n",
       "      <td>2015</td>\n",
       "      <td>1.379999e+08</td>\n",
       "      <td>3.481613e+08</td>\n",
       "    </tr>\n",
       "  </tbody>\n",
       "</table>\n",
       "<p>2 rows × 21 columns</p>\n",
       "</div>"
      ],
      "text/plain": [
       "       id    imdb_id  popularity     budget     revenue      original_title  \\\n",
       "0  135397  tt0369610   32.985763  150000000  1513528810      Jurassic World   \n",
       "1   76341  tt1392190   28.419936  150000000   378436354  Mad Max: Fury Road   \n",
       "\n",
       "                                                cast  \\\n",
       "0  Chris Pratt|Bryce Dallas Howard|Irrfan Khan|Vi...   \n",
       "1  Tom Hardy|Charlize Theron|Hugh Keays-Byrne|Nic...   \n",
       "\n",
       "                        homepage         director             tagline  \\\n",
       "0  http://www.jurassicworld.com/  Colin Trevorrow   The park is open.   \n",
       "1    http://www.madmaxmovie.com/    George Miller  What a Lovely Day.   \n",
       "\n",
       "       ...                                                overview runtime  \\\n",
       "0      ...       Twenty-two years after the events of Jurassic ...     124   \n",
       "1      ...       An apocalyptic story set in the furthest reach...     120   \n",
       "\n",
       "                                      genres  \\\n",
       "0  Action|Adventure|Science Fiction|Thriller   \n",
       "1  Action|Adventure|Science Fiction|Thriller   \n",
       "\n",
       "                                production_companies release_date vote_count  \\\n",
       "0  Universal Studios|Amblin Entertainment|Legenda...       6/9/15       5562   \n",
       "1  Village Roadshow Pictures|Kennedy Miller Produ...      5/13/15       6185   \n",
       "\n",
       "   vote_average  release_year    budget_adj   revenue_adj  \n",
       "0           6.5          2015  1.379999e+08  1.392446e+09  \n",
       "1           7.1          2015  1.379999e+08  3.481613e+08  \n",
       "\n",
       "[2 rows x 21 columns]"
      ]
     },
     "execution_count": 2,
     "metadata": {},
     "output_type": "execute_result"
    }
   ],
   "source": [
    "# 打印几行熟悉数据\n",
    "df.head(2)"
   ]
  },
  {
   "cell_type": "code",
   "execution_count": 3,
   "metadata": {},
   "outputs": [
    {
     "data": {
      "text/html": [
       "<div>\n",
       "<style scoped>\n",
       "    .dataframe tbody tr th:only-of-type {\n",
       "        vertical-align: middle;\n",
       "    }\n",
       "\n",
       "    .dataframe tbody tr th {\n",
       "        vertical-align: top;\n",
       "    }\n",
       "\n",
       "    .dataframe thead th {\n",
       "        text-align: right;\n",
       "    }\n",
       "</style>\n",
       "<table border=\"1\" class=\"dataframe\">\n",
       "  <thead>\n",
       "    <tr style=\"text-align: right;\">\n",
       "      <th></th>\n",
       "      <th>id</th>\n",
       "      <th>imdb_id</th>\n",
       "      <th>popularity</th>\n",
       "      <th>budget</th>\n",
       "      <th>revenue</th>\n",
       "      <th>original_title</th>\n",
       "      <th>cast</th>\n",
       "      <th>homepage</th>\n",
       "      <th>director</th>\n",
       "      <th>tagline</th>\n",
       "      <th>...</th>\n",
       "      <th>overview</th>\n",
       "      <th>runtime</th>\n",
       "      <th>genres</th>\n",
       "      <th>production_companies</th>\n",
       "      <th>release_date</th>\n",
       "      <th>vote_count</th>\n",
       "      <th>vote_average</th>\n",
       "      <th>release_year</th>\n",
       "      <th>budget_adj</th>\n",
       "      <th>revenue_adj</th>\n",
       "    </tr>\n",
       "  </thead>\n",
       "  <tbody>\n",
       "    <tr>\n",
       "      <th>3805</th>\n",
       "      <td>60170</td>\n",
       "      <td>tt1651062</td>\n",
       "      <td>0.208023</td>\n",
       "      <td>0</td>\n",
       "      <td>0</td>\n",
       "      <td>Christopher and His Kind</td>\n",
       "      <td>Matt Smith|Toby Jones|Imogen Poots|Lindsay Dun...</td>\n",
       "      <td>http://www.bbc.co.uk/programmes/b00ztfl9</td>\n",
       "      <td>Geoffrey Sax</td>\n",
       "      <td>NaN</td>\n",
       "      <td>...</td>\n",
       "      <td>In 1931 budding author Christopher Isherwood g...</td>\n",
       "      <td>90</td>\n",
       "      <td>Drama|Romance</td>\n",
       "      <td>Mammoth Screen</td>\n",
       "      <td>3/19/11</td>\n",
       "      <td>15</td>\n",
       "      <td>6.7</td>\n",
       "      <td>2011</td>\n",
       "      <td>0.000000e+00</td>\n",
       "      <td>0.000000e+00</td>\n",
       "    </tr>\n",
       "    <tr>\n",
       "      <th>180</th>\n",
       "      <td>256962</td>\n",
       "      <td>tt1810683</td>\n",
       "      <td>0.829111</td>\n",
       "      <td>20000000</td>\n",
       "      <td>6420319</td>\n",
       "      <td>Little Boy</td>\n",
       "      <td>Jakob Salvati|Emily Watson|Cary-Hiroyuki Tagaw...</td>\n",
       "      <td>http://www.littleboymovie.com/</td>\n",
       "      <td>Alejandro Monteverde</td>\n",
       "      <td>Believe the impossible.</td>\n",
       "      <td>...</td>\n",
       "      <td>An eight-year-old boy is willing to do whateve...</td>\n",
       "      <td>106</td>\n",
       "      <td>Comedy|Drama|War</td>\n",
       "      <td>Metanoia Films</td>\n",
       "      <td>4/23/15</td>\n",
       "      <td>113</td>\n",
       "      <td>7.1</td>\n",
       "      <td>2015</td>\n",
       "      <td>1.839999e+07</td>\n",
       "      <td>5.906691e+06</td>\n",
       "    </tr>\n",
       "    <tr>\n",
       "      <th>8609</th>\n",
       "      <td>19002</td>\n",
       "      <td>tt0116033</td>\n",
       "      <td>0.301638</td>\n",
       "      <td>0</td>\n",
       "      <td>0</td>\n",
       "      <td>Darkman III: Die Darkman Die</td>\n",
       "      <td>Jeff Fahey|Arnold Vosloo|Darlanne Fluegel|Roxa...</td>\n",
       "      <td>NaN</td>\n",
       "      <td>Bradford May</td>\n",
       "      <td>One fights for justice. The other for power. O...</td>\n",
       "      <td>...</td>\n",
       "      <td>Darkman, needing money to continue his experim...</td>\n",
       "      <td>87</td>\n",
       "      <td>Action|Thriller|Science Fiction</td>\n",
       "      <td>Renaissance Pictures</td>\n",
       "      <td>8/20/96</td>\n",
       "      <td>16</td>\n",
       "      <td>3.4</td>\n",
       "      <td>1996</td>\n",
       "      <td>0.000000e+00</td>\n",
       "      <td>0.000000e+00</td>\n",
       "    </tr>\n",
       "  </tbody>\n",
       "</table>\n",
       "<p>3 rows × 21 columns</p>\n",
       "</div>"
      ],
      "text/plain": [
       "          id    imdb_id  popularity    budget  revenue  \\\n",
       "3805   60170  tt1651062    0.208023         0        0   \n",
       "180   256962  tt1810683    0.829111  20000000  6420319   \n",
       "8609   19002  tt0116033    0.301638         0        0   \n",
       "\n",
       "                    original_title  \\\n",
       "3805      Christopher and His Kind   \n",
       "180                     Little Boy   \n",
       "8609  Darkman III: Die Darkman Die   \n",
       "\n",
       "                                                   cast  \\\n",
       "3805  Matt Smith|Toby Jones|Imogen Poots|Lindsay Dun...   \n",
       "180   Jakob Salvati|Emily Watson|Cary-Hiroyuki Tagaw...   \n",
       "8609  Jeff Fahey|Arnold Vosloo|Darlanne Fluegel|Roxa...   \n",
       "\n",
       "                                      homepage              director  \\\n",
       "3805  http://www.bbc.co.uk/programmes/b00ztfl9          Geoffrey Sax   \n",
       "180             http://www.littleboymovie.com/  Alejandro Monteverde   \n",
       "8609                                       NaN          Bradford May   \n",
       "\n",
       "                                                tagline      ...       \\\n",
       "3805                                                NaN      ...        \n",
       "180                             Believe the impossible.      ...        \n",
       "8609  One fights for justice. The other for power. O...      ...        \n",
       "\n",
       "                                               overview runtime  \\\n",
       "3805  In 1931 budding author Christopher Isherwood g...      90   \n",
       "180   An eight-year-old boy is willing to do whateve...     106   \n",
       "8609  Darkman, needing money to continue his experim...      87   \n",
       "\n",
       "                               genres  production_companies release_date  \\\n",
       "3805                    Drama|Romance        Mammoth Screen      3/19/11   \n",
       "180                  Comedy|Drama|War        Metanoia Films      4/23/15   \n",
       "8609  Action|Thriller|Science Fiction  Renaissance Pictures      8/20/96   \n",
       "\n",
       "     vote_count  vote_average  release_year    budget_adj   revenue_adj  \n",
       "3805         15           6.7          2011  0.000000e+00  0.000000e+00  \n",
       "180         113           7.1          2015  1.839999e+07  5.906691e+06  \n",
       "8609         16           3.4          1996  0.000000e+00  0.000000e+00  \n",
       "\n",
       "[3 rows x 21 columns]"
      ]
     },
     "execution_count": 3,
     "metadata": {},
     "output_type": "execute_result"
    }
   ],
   "source": [
    "#随机查看数据\n",
    "df.sample(3)"
   ]
  },
  {
   "cell_type": "code",
   "execution_count": 4,
   "metadata": {},
   "outputs": [
    {
     "data": {
      "text/html": [
       "<div>\n",
       "<style scoped>\n",
       "    .dataframe tbody tr th:only-of-type {\n",
       "        vertical-align: middle;\n",
       "    }\n",
       "\n",
       "    .dataframe tbody tr th {\n",
       "        vertical-align: top;\n",
       "    }\n",
       "\n",
       "    .dataframe thead th {\n",
       "        text-align: right;\n",
       "    }\n",
       "</style>\n",
       "<table border=\"1\" class=\"dataframe\">\n",
       "  <thead>\n",
       "    <tr style=\"text-align: right;\">\n",
       "      <th></th>\n",
       "      <th>id</th>\n",
       "      <th>popularity</th>\n",
       "      <th>budget</th>\n",
       "      <th>revenue</th>\n",
       "      <th>runtime</th>\n",
       "      <th>vote_count</th>\n",
       "      <th>vote_average</th>\n",
       "      <th>release_year</th>\n",
       "      <th>budget_adj</th>\n",
       "      <th>revenue_adj</th>\n",
       "    </tr>\n",
       "  </thead>\n",
       "  <tbody>\n",
       "    <tr>\n",
       "      <th>count</th>\n",
       "      <td>10866.000000</td>\n",
       "      <td>10866.000000</td>\n",
       "      <td>1.086600e+04</td>\n",
       "      <td>1.086600e+04</td>\n",
       "      <td>10866.000000</td>\n",
       "      <td>10866.000000</td>\n",
       "      <td>10866.000000</td>\n",
       "      <td>10866.000000</td>\n",
       "      <td>1.086600e+04</td>\n",
       "      <td>1.086600e+04</td>\n",
       "    </tr>\n",
       "    <tr>\n",
       "      <th>mean</th>\n",
       "      <td>66064.177434</td>\n",
       "      <td>0.646441</td>\n",
       "      <td>1.462570e+07</td>\n",
       "      <td>3.982332e+07</td>\n",
       "      <td>102.070863</td>\n",
       "      <td>217.389748</td>\n",
       "      <td>5.974922</td>\n",
       "      <td>2001.322658</td>\n",
       "      <td>1.755104e+07</td>\n",
       "      <td>5.136436e+07</td>\n",
       "    </tr>\n",
       "    <tr>\n",
       "      <th>std</th>\n",
       "      <td>92130.136561</td>\n",
       "      <td>1.000185</td>\n",
       "      <td>3.091321e+07</td>\n",
       "      <td>1.170035e+08</td>\n",
       "      <td>31.381405</td>\n",
       "      <td>575.619058</td>\n",
       "      <td>0.935142</td>\n",
       "      <td>12.812941</td>\n",
       "      <td>3.430616e+07</td>\n",
       "      <td>1.446325e+08</td>\n",
       "    </tr>\n",
       "    <tr>\n",
       "      <th>min</th>\n",
       "      <td>5.000000</td>\n",
       "      <td>0.000065</td>\n",
       "      <td>0.000000e+00</td>\n",
       "      <td>0.000000e+00</td>\n",
       "      <td>0.000000</td>\n",
       "      <td>10.000000</td>\n",
       "      <td>1.500000</td>\n",
       "      <td>1960.000000</td>\n",
       "      <td>0.000000e+00</td>\n",
       "      <td>0.000000e+00</td>\n",
       "    </tr>\n",
       "    <tr>\n",
       "      <th>25%</th>\n",
       "      <td>10596.250000</td>\n",
       "      <td>0.207583</td>\n",
       "      <td>0.000000e+00</td>\n",
       "      <td>0.000000e+00</td>\n",
       "      <td>90.000000</td>\n",
       "      <td>17.000000</td>\n",
       "      <td>5.400000</td>\n",
       "      <td>1995.000000</td>\n",
       "      <td>0.000000e+00</td>\n",
       "      <td>0.000000e+00</td>\n",
       "    </tr>\n",
       "    <tr>\n",
       "      <th>50%</th>\n",
       "      <td>20669.000000</td>\n",
       "      <td>0.383856</td>\n",
       "      <td>0.000000e+00</td>\n",
       "      <td>0.000000e+00</td>\n",
       "      <td>99.000000</td>\n",
       "      <td>38.000000</td>\n",
       "      <td>6.000000</td>\n",
       "      <td>2006.000000</td>\n",
       "      <td>0.000000e+00</td>\n",
       "      <td>0.000000e+00</td>\n",
       "    </tr>\n",
       "    <tr>\n",
       "      <th>75%</th>\n",
       "      <td>75610.000000</td>\n",
       "      <td>0.713817</td>\n",
       "      <td>1.500000e+07</td>\n",
       "      <td>2.400000e+07</td>\n",
       "      <td>111.000000</td>\n",
       "      <td>145.750000</td>\n",
       "      <td>6.600000</td>\n",
       "      <td>2011.000000</td>\n",
       "      <td>2.085325e+07</td>\n",
       "      <td>3.369710e+07</td>\n",
       "    </tr>\n",
       "    <tr>\n",
       "      <th>max</th>\n",
       "      <td>417859.000000</td>\n",
       "      <td>32.985763</td>\n",
       "      <td>4.250000e+08</td>\n",
       "      <td>2.781506e+09</td>\n",
       "      <td>900.000000</td>\n",
       "      <td>9767.000000</td>\n",
       "      <td>9.200000</td>\n",
       "      <td>2015.000000</td>\n",
       "      <td>4.250000e+08</td>\n",
       "      <td>2.827124e+09</td>\n",
       "    </tr>\n",
       "  </tbody>\n",
       "</table>\n",
       "</div>"
      ],
      "text/plain": [
       "                  id    popularity        budget       revenue       runtime  \\\n",
       "count   10866.000000  10866.000000  1.086600e+04  1.086600e+04  10866.000000   \n",
       "mean    66064.177434      0.646441  1.462570e+07  3.982332e+07    102.070863   \n",
       "std     92130.136561      1.000185  3.091321e+07  1.170035e+08     31.381405   \n",
       "min         5.000000      0.000065  0.000000e+00  0.000000e+00      0.000000   \n",
       "25%     10596.250000      0.207583  0.000000e+00  0.000000e+00     90.000000   \n",
       "50%     20669.000000      0.383856  0.000000e+00  0.000000e+00     99.000000   \n",
       "75%     75610.000000      0.713817  1.500000e+07  2.400000e+07    111.000000   \n",
       "max    417859.000000     32.985763  4.250000e+08  2.781506e+09    900.000000   \n",
       "\n",
       "         vote_count  vote_average  release_year    budget_adj   revenue_adj  \n",
       "count  10866.000000  10866.000000  10866.000000  1.086600e+04  1.086600e+04  \n",
       "mean     217.389748      5.974922   2001.322658  1.755104e+07  5.136436e+07  \n",
       "std      575.619058      0.935142     12.812941  3.430616e+07  1.446325e+08  \n",
       "min       10.000000      1.500000   1960.000000  0.000000e+00  0.000000e+00  \n",
       "25%       17.000000      5.400000   1995.000000  0.000000e+00  0.000000e+00  \n",
       "50%       38.000000      6.000000   2006.000000  0.000000e+00  0.000000e+00  \n",
       "75%      145.750000      6.600000   2011.000000  2.085325e+07  3.369710e+07  \n",
       "max     9767.000000      9.200000   2015.000000  4.250000e+08  2.827124e+09  "
      ]
     },
     "execution_count": 4,
     "metadata": {},
     "output_type": "execute_result"
    }
   ],
   "source": [
    "#数据集描述\n",
    "df.describe()"
   ]
  },
  {
   "cell_type": "code",
   "execution_count": 5,
   "metadata": {},
   "outputs": [
    {
     "data": {
      "text/plain": [
       "(10866, 21)"
      ]
     },
     "execution_count": 5,
     "metadata": {},
     "output_type": "execute_result"
    }
   ],
   "source": [
    "#数据集大小\n",
    "df.shape"
   ]
  },
  {
   "cell_type": "code",
   "execution_count": 6,
   "metadata": {},
   "outputs": [
    {
     "name": "stdout",
     "output_type": "stream",
     "text": [
      "<class 'pandas.core.frame.DataFrame'>\n",
      "RangeIndex: 10866 entries, 0 to 10865\n",
      "Data columns (total 21 columns):\n",
      "id                      10866 non-null int64\n",
      "imdb_id                 10856 non-null object\n",
      "popularity              10866 non-null float64\n",
      "budget                  10866 non-null int64\n",
      "revenue                 10866 non-null int64\n",
      "original_title          10866 non-null object\n",
      "cast                    10790 non-null object\n",
      "homepage                2936 non-null object\n",
      "director                10822 non-null object\n",
      "tagline                 8042 non-null object\n",
      "keywords                9373 non-null object\n",
      "overview                10862 non-null object\n",
      "runtime                 10866 non-null int64\n",
      "genres                  10843 non-null object\n",
      "production_companies    9836 non-null object\n",
      "release_date            10866 non-null object\n",
      "vote_count              10866 non-null int64\n",
      "vote_average            10866 non-null float64\n",
      "release_year            10866 non-null int64\n",
      "budget_adj              10866 non-null float64\n",
      "revenue_adj             10866 non-null float64\n",
      "dtypes: float64(4), int64(6), object(11)\n",
      "memory usage: 1.7+ MB\n"
     ]
    }
   ],
   "source": [
    "#查看数据集的类型\n",
    "df.info()"
   ]
  },
  {
   "cell_type": "code",
   "execution_count": 7,
   "metadata": {},
   "outputs": [
    {
     "name": "stdout",
     "output_type": "stream",
     "text": [
      "<class 'str'>\n",
      "<class 'str'>\n",
      "<class 'str'>\n",
      "<class 'str'>\n",
      "<class 'str'>\n",
      "<class 'str'>\n",
      "<class 'str'>\n",
      "<class 'str'>\n",
      "<class 'str'>\n",
      "<class 'str'>\n",
      "<class 'str'>\n"
     ]
    }
   ],
   "source": [
    "#查看object的数据类型\n",
    "print(type(df['imdb_id'][0]))\n",
    "print(type(df['original_title'][0]))\n",
    "print(type(df['cast'][0]))\n",
    "print(type(df['homepage'][0]))\n",
    "print(type(df['director'][0]))\n",
    "print(type(df['tagline'][0]))\n",
    "print(type(df['keywords'][0]))\n",
    "print(type(df['overview'][0]))\n",
    "print(type(df['genres'][0]))\n",
    "print(type(df['production_companies'][0]))\n",
    "print(type(df['release_date'][0]))"
   ]
  },
  {
   "cell_type": "code",
   "execution_count": 8,
   "metadata": {},
   "outputs": [
    {
     "data": {
      "text/plain": [
       "1"
      ]
     },
     "execution_count": 8,
     "metadata": {},
     "output_type": "execute_result"
    }
   ],
   "source": [
    "#查看冗余的数据数\n",
    "df.duplicated().sum()"
   ]
  },
  {
   "cell_type": "markdown",
   "metadata": {},
   "source": [
    "数据冗余数1"
   ]
  },
  {
   "cell_type": "code",
   "execution_count": 9,
   "metadata": {},
   "outputs": [
    {
     "data": {
      "text/plain": [
       "id                         0\n",
       "imdb_id                   10\n",
       "popularity                 0\n",
       "budget                     0\n",
       "revenue                    0\n",
       "original_title             0\n",
       "cast                      76\n",
       "homepage                7930\n",
       "director                  44\n",
       "tagline                 2824\n",
       "keywords                1493\n",
       "overview                   4\n",
       "runtime                    0\n",
       "genres                    23\n",
       "production_companies    1030\n",
       "release_date               0\n",
       "vote_count                 0\n",
       "vote_average               0\n",
       "release_year               0\n",
       "budget_adj                 0\n",
       "revenue_adj                0\n",
       "dtype: int64"
      ]
     },
     "execution_count": 9,
     "metadata": {},
     "output_type": "execute_result"
    }
   ],
   "source": [
    "#缺失的数据数\n",
    "df.isnull().sum()"
   ]
  },
  {
   "cell_type": "markdown",
   "metadata": {},
   "source": [
    "缺失数据的列为imdb_id，cast，homepage，director，tagline，keywords，overview，genres，production_companies列，分别缺失10，76，7930，4，2824，1493，4，23，1030组数据"
   ]
  },
  {
   "cell_type": "markdown",
   "metadata": {},
   "source": [
    "### 数据清理\n",
    "对数据整理中的数据冗余和数据缺失进行处理"
   ]
  },
  {
   "cell_type": "code",
   "execution_count": 10,
   "metadata": {},
   "outputs": [],
   "source": [
    "#复制数据防止出错\n",
    "df1 = df.copy()"
   ]
  },
  {
   "cell_type": "code",
   "execution_count": 11,
   "metadata": {},
   "outputs": [
    {
     "data": {
      "text/html": [
       "<div>\n",
       "<style scoped>\n",
       "    .dataframe tbody tr th:only-of-type {\n",
       "        vertical-align: middle;\n",
       "    }\n",
       "\n",
       "    .dataframe tbody tr th {\n",
       "        vertical-align: top;\n",
       "    }\n",
       "\n",
       "    .dataframe thead th {\n",
       "        text-align: right;\n",
       "    }\n",
       "</style>\n",
       "<table border=\"1\" class=\"dataframe\">\n",
       "  <thead>\n",
       "    <tr style=\"text-align: right;\">\n",
       "      <th></th>\n",
       "      <th>id</th>\n",
       "      <th>popularity</th>\n",
       "      <th>budget</th>\n",
       "      <th>revenue</th>\n",
       "      <th>runtime</th>\n",
       "      <th>vote_count</th>\n",
       "      <th>vote_average</th>\n",
       "      <th>release_year</th>\n",
       "      <th>budget_adj</th>\n",
       "      <th>revenue_adj</th>\n",
       "    </tr>\n",
       "  </thead>\n",
       "  <tbody>\n",
       "    <tr>\n",
       "      <th>count</th>\n",
       "      <td>10865.000000</td>\n",
       "      <td>10865.000000</td>\n",
       "      <td>1.086500e+04</td>\n",
       "      <td>1.086500e+04</td>\n",
       "      <td>10865.000000</td>\n",
       "      <td>10865.000000</td>\n",
       "      <td>10865.000000</td>\n",
       "      <td>10865.000000</td>\n",
       "      <td>1.086500e+04</td>\n",
       "      <td>1.086500e+04</td>\n",
       "    </tr>\n",
       "    <tr>\n",
       "      <th>mean</th>\n",
       "      <td>66066.374413</td>\n",
       "      <td>0.646446</td>\n",
       "      <td>1.462429e+07</td>\n",
       "      <td>3.982690e+07</td>\n",
       "      <td>102.071790</td>\n",
       "      <td>217.399632</td>\n",
       "      <td>5.975012</td>\n",
       "      <td>2001.321859</td>\n",
       "      <td>1.754989e+07</td>\n",
       "      <td>5.136900e+07</td>\n",
       "    </tr>\n",
       "    <tr>\n",
       "      <th>std</th>\n",
       "      <td>92134.091971</td>\n",
       "      <td>1.000231</td>\n",
       "      <td>3.091428e+07</td>\n",
       "      <td>1.170083e+08</td>\n",
       "      <td>31.382701</td>\n",
       "      <td>575.644627</td>\n",
       "      <td>0.935138</td>\n",
       "      <td>12.813260</td>\n",
       "      <td>3.430753e+07</td>\n",
       "      <td>1.446383e+08</td>\n",
       "    </tr>\n",
       "    <tr>\n",
       "      <th>min</th>\n",
       "      <td>5.000000</td>\n",
       "      <td>0.000065</td>\n",
       "      <td>0.000000e+00</td>\n",
       "      <td>0.000000e+00</td>\n",
       "      <td>0.000000</td>\n",
       "      <td>10.000000</td>\n",
       "      <td>1.500000</td>\n",
       "      <td>1960.000000</td>\n",
       "      <td>0.000000e+00</td>\n",
       "      <td>0.000000e+00</td>\n",
       "    </tr>\n",
       "    <tr>\n",
       "      <th>25%</th>\n",
       "      <td>10596.000000</td>\n",
       "      <td>0.207575</td>\n",
       "      <td>0.000000e+00</td>\n",
       "      <td>0.000000e+00</td>\n",
       "      <td>90.000000</td>\n",
       "      <td>17.000000</td>\n",
       "      <td>5.400000</td>\n",
       "      <td>1995.000000</td>\n",
       "      <td>0.000000e+00</td>\n",
       "      <td>0.000000e+00</td>\n",
       "    </tr>\n",
       "    <tr>\n",
       "      <th>50%</th>\n",
       "      <td>20662.000000</td>\n",
       "      <td>0.383831</td>\n",
       "      <td>0.000000e+00</td>\n",
       "      <td>0.000000e+00</td>\n",
       "      <td>99.000000</td>\n",
       "      <td>38.000000</td>\n",
       "      <td>6.000000</td>\n",
       "      <td>2006.000000</td>\n",
       "      <td>0.000000e+00</td>\n",
       "      <td>0.000000e+00</td>\n",
       "    </tr>\n",
       "    <tr>\n",
       "      <th>75%</th>\n",
       "      <td>75612.000000</td>\n",
       "      <td>0.713857</td>\n",
       "      <td>1.500000e+07</td>\n",
       "      <td>2.400000e+07</td>\n",
       "      <td>111.000000</td>\n",
       "      <td>146.000000</td>\n",
       "      <td>6.600000</td>\n",
       "      <td>2011.000000</td>\n",
       "      <td>2.085325e+07</td>\n",
       "      <td>3.370173e+07</td>\n",
       "    </tr>\n",
       "    <tr>\n",
       "      <th>max</th>\n",
       "      <td>417859.000000</td>\n",
       "      <td>32.985763</td>\n",
       "      <td>4.250000e+08</td>\n",
       "      <td>2.781506e+09</td>\n",
       "      <td>900.000000</td>\n",
       "      <td>9767.000000</td>\n",
       "      <td>9.200000</td>\n",
       "      <td>2015.000000</td>\n",
       "      <td>4.250000e+08</td>\n",
       "      <td>2.827124e+09</td>\n",
       "    </tr>\n",
       "  </tbody>\n",
       "</table>\n",
       "</div>"
      ],
      "text/plain": [
       "                  id    popularity        budget       revenue       runtime  \\\n",
       "count   10865.000000  10865.000000  1.086500e+04  1.086500e+04  10865.000000   \n",
       "mean    66066.374413      0.646446  1.462429e+07  3.982690e+07    102.071790   \n",
       "std     92134.091971      1.000231  3.091428e+07  1.170083e+08     31.382701   \n",
       "min         5.000000      0.000065  0.000000e+00  0.000000e+00      0.000000   \n",
       "25%     10596.000000      0.207575  0.000000e+00  0.000000e+00     90.000000   \n",
       "50%     20662.000000      0.383831  0.000000e+00  0.000000e+00     99.000000   \n",
       "75%     75612.000000      0.713857  1.500000e+07  2.400000e+07    111.000000   \n",
       "max    417859.000000     32.985763  4.250000e+08  2.781506e+09    900.000000   \n",
       "\n",
       "         vote_count  vote_average  release_year    budget_adj   revenue_adj  \n",
       "count  10865.000000  10865.000000  10865.000000  1.086500e+04  1.086500e+04  \n",
       "mean     217.399632      5.975012   2001.321859  1.754989e+07  5.136900e+07  \n",
       "std      575.644627      0.935138     12.813260  3.430753e+07  1.446383e+08  \n",
       "min       10.000000      1.500000   1960.000000  0.000000e+00  0.000000e+00  \n",
       "25%       17.000000      5.400000   1995.000000  0.000000e+00  0.000000e+00  \n",
       "50%       38.000000      6.000000   2006.000000  0.000000e+00  0.000000e+00  \n",
       "75%      146.000000      6.600000   2011.000000  2.085325e+07  3.370173e+07  \n",
       "max     9767.000000      9.200000   2015.000000  4.250000e+08  2.827124e+09  "
      ]
     },
     "execution_count": 11,
     "metadata": {},
     "output_type": "execute_result"
    }
   ],
   "source": [
    "#删掉冗余数据\n",
    "df1.drop_duplicates(inplace = True)\n",
    "#将发布时间的数据类型改为datatime\n",
    "df1['release_date'] = pd.to_datetime(df['release_date'])\n",
    "#用0填充缺失的数据\n",
    "df1.fillna(0,inplace=True)\n",
    "df1.describe()"
   ]
  },
  {
   "cell_type": "code",
   "execution_count": 12,
   "metadata": {},
   "outputs": [
    {
     "data": {
      "text/plain": [
       "id                      0\n",
       "imdb_id                 0\n",
       "popularity              0\n",
       "budget                  0\n",
       "revenue                 0\n",
       "original_title          0\n",
       "cast                    0\n",
       "homepage                0\n",
       "director                0\n",
       "tagline                 0\n",
       "keywords                0\n",
       "overview                0\n",
       "runtime                 0\n",
       "genres                  0\n",
       "production_companies    0\n",
       "release_date            0\n",
       "vote_count              0\n",
       "vote_average            0\n",
       "release_year            0\n",
       "budget_adj              0\n",
       "revenue_adj             0\n",
       "dtype: int64"
      ]
     },
     "execution_count": 12,
     "metadata": {},
     "output_type": "execute_result"
    }
   ],
   "source": [
    "#查看数据是否填满空集\n",
    "df1.isnull().sum()"
   ]
  },
  {
   "cell_type": "code",
   "execution_count": 13,
   "metadata": {},
   "outputs": [
    {
     "data": {
      "text/plain": [
       "0"
      ]
     },
     "execution_count": 13,
     "metadata": {},
     "output_type": "execute_result"
    }
   ],
   "source": [
    "#查看是否删除冗余\n",
    "df1.duplicated().sum()"
   ]
  },
  {
   "cell_type": "markdown",
   "metadata": {},
   "source": [
    "<a id='eda'></a>\n",
    "## 探索性数据分析\n",
    "\n",
    "### 研究问题 1:什么类型的电影最受欢迎？"
   ]
  },
  {
   "cell_type": "code",
   "execution_count": 14,
   "metadata": {
    "scrolled": true
   },
   "outputs": [
    {
     "data": {
      "text/plain": [
       "Drama                                             712\n",
       "Comedy                                            712\n",
       "Documentary                                       312\n",
       "Drama|Romance                                     289\n",
       "Comedy|Drama                                      280\n",
       "Comedy|Romance                                    268\n",
       "Horror|Thriller                                   259\n",
       "Horror                                            253\n",
       "Comedy|Drama|Romance                              222\n",
       "Drama|Thriller                                    138\n",
       "Comedy|Family                                     102\n",
       "Action|Thriller                                   101\n",
       "Thriller                                           93\n",
       "Drama|Comedy                                       92\n",
       "Animation|Family                                   90\n",
       "Crime|Drama|Thriller                               81\n",
       "Crime|Drama                                        74\n",
       "Comedy|Horror                                      72\n",
       "Drama|Comedy|Romance                               64\n",
       "Action                                             63\n",
       "Action|Comedy                                      62\n",
       "Drama|History                                      58\n",
       "Action|Crime|Drama|Thriller                        54\n",
       "Drama|Horror|Thriller                              53\n",
       "Action|Crime|Thriller                              52\n",
       "Horror|Science Fiction                             52\n",
       "Horror|Mystery|Thriller                            51\n",
       "Comedy|Crime                                       50\n",
       "Drama|Music                                        49\n",
       "Documentary|Music                                  49\n",
       "                                                 ... \n",
       "Adventure|Horror|Mystery|Thriller                   1\n",
       "Comedy|Family|Western                               1\n",
       "Animation|Drama|Science Fiction|Thriller            1\n",
       "Romance|Action|Comedy                               1\n",
       "TV Movie|Animation|Family|Fantasy                   1\n",
       "Drama|Science Fiction|Mystery|Romance               1\n",
       "Science Fiction|Action|Thriller|Adventure           1\n",
       "Mystery|Drama|Horror|Thriller                       1\n",
       "Science Fiction|Comedy|Drama|Romance                1\n",
       "Horror|Thriller|Comedy|Crime                        1\n",
       "Comedy|Horror|Mystery|Thriller                      1\n",
       "War|Action|Drama|Romance                            1\n",
       "Adventure|Animation|Action|Family|Mystery           1\n",
       "Animation|Comedy|Family|Action                      1\n",
       "TV Movie|Animation|Family|Comedy                    1\n",
       "Action|Adventure|Science Fiction|Family             1\n",
       "Adventure|Fantasy|Mystery                           1\n",
       "Action|Animation|Crime                              1\n",
       "Drama|Action|Comedy|Music|Family                    1\n",
       "Family|Drama|Comedy                                 1\n",
       "Adventure|Fantasy|Romance|Family                    1\n",
       "Action|Adventure|Drama|Fantasy|Science Fiction      1\n",
       "Adventure|Drama|History|Thriller|War                1\n",
       "Music|Comedy|Drama|Romance                          1\n",
       "Action|Crime|Drama|History                          1\n",
       "Family|Animation|Comedy|Romance                     1\n",
       "TV Movie|Comedy|Drama|Romance                       1\n",
       "Horror|Comedy|Action|Fantasy|Science Fiction        1\n",
       "Comedy|Documentary|Drama                            1\n",
       "Action|Foreign|Horror|Thriller                      1\n",
       "Name: genres, Length: 2040, dtype: int64"
      ]
     },
     "execution_count": 14,
     "metadata": {},
     "output_type": "execute_result"
    }
   ],
   "source": [
    "#查看genres的数据分类\n",
    "df1['genres'].value_counts()"
   ]
  },
  {
   "cell_type": "markdown",
   "metadata": {},
   "source": [
    "genres的数据分类太多，需要将其汇总为Action，Comedy等几个大类"
   ]
  },
  {
   "cell_type": "code",
   "execution_count": 15,
   "metadata": {},
   "outputs": [],
   "source": [
    "#修改genres的数据类型为字符\n",
    "df1.genres = df1.genres.astype(str)"
   ]
  },
  {
   "cell_type": "code",
   "execution_count": 16,
   "metadata": {},
   "outputs": [
    {
     "data": {
      "text/plain": [
       "{'0',\n",
       " 'Action',\n",
       " 'Adventure',\n",
       " 'Animation',\n",
       " 'Comedy',\n",
       " 'Crime',\n",
       " 'Documentary',\n",
       " 'Drama',\n",
       " 'Family',\n",
       " 'Fantasy',\n",
       " 'Foreign',\n",
       " 'History',\n",
       " 'Horror',\n",
       " 'Music',\n",
       " 'Mystery',\n",
       " 'Romance',\n",
       " 'Science Fiction',\n",
       " 'TV Movie',\n",
       " 'Thriller',\n",
       " 'War',\n",
       " 'Western'}"
      ]
     },
     "execution_count": 16,
     "metadata": {},
     "output_type": "execute_result"
    }
   ],
   "source": [
    "#将电影大类赋值给genres\n",
    "genres_set = set()\n",
    "\n",
    "for x in df1['genres']:\n",
    "    genres_set.update(x.split('|')) \n",
    "\n",
    "genres_set"
   ]
  },
  {
   "cell_type": "code",
   "execution_count": 17,
   "metadata": {},
   "outputs": [
    {
     "data": {
      "text/html": [
       "<div>\n",
       "<style scoped>\n",
       "    .dataframe tbody tr th:only-of-type {\n",
       "        vertical-align: middle;\n",
       "    }\n",
       "\n",
       "    .dataframe tbody tr th {\n",
       "        vertical-align: top;\n",
       "    }\n",
       "\n",
       "    .dataframe thead th {\n",
       "        text-align: right;\n",
       "    }\n",
       "</style>\n",
       "<table border=\"1\" class=\"dataframe\">\n",
       "  <thead>\n",
       "    <tr style=\"text-align: right;\">\n",
       "      <th></th>\n",
       "      <th>id</th>\n",
       "      <th>imdb_id</th>\n",
       "      <th>popularity</th>\n",
       "      <th>budget</th>\n",
       "      <th>revenue</th>\n",
       "      <th>original_title</th>\n",
       "      <th>cast</th>\n",
       "      <th>homepage</th>\n",
       "      <th>director</th>\n",
       "      <th>tagline</th>\n",
       "      <th>...</th>\n",
       "      <th>Science Fiction</th>\n",
       "      <th>TV Movie</th>\n",
       "      <th>Fantasy</th>\n",
       "      <th>Western</th>\n",
       "      <th>Animation</th>\n",
       "      <th>Family</th>\n",
       "      <th>Horror</th>\n",
       "      <th>War</th>\n",
       "      <th>Foreign</th>\n",
       "      <th>Music</th>\n",
       "    </tr>\n",
       "  </thead>\n",
       "  <tbody>\n",
       "    <tr>\n",
       "      <th>0</th>\n",
       "      <td>135397</td>\n",
       "      <td>tt0369610</td>\n",
       "      <td>32.985763</td>\n",
       "      <td>150000000</td>\n",
       "      <td>1513528810</td>\n",
       "      <td>Jurassic World</td>\n",
       "      <td>Chris Pratt|Bryce Dallas Howard|Irrfan Khan|Vi...</td>\n",
       "      <td>http://www.jurassicworld.com/</td>\n",
       "      <td>Colin Trevorrow</td>\n",
       "      <td>The park is open.</td>\n",
       "      <td>...</td>\n",
       "      <td>1</td>\n",
       "      <td>0</td>\n",
       "      <td>0</td>\n",
       "      <td>0</td>\n",
       "      <td>0</td>\n",
       "      <td>0</td>\n",
       "      <td>0</td>\n",
       "      <td>0</td>\n",
       "      <td>0</td>\n",
       "      <td>0</td>\n",
       "    </tr>\n",
       "    <tr>\n",
       "      <th>1</th>\n",
       "      <td>76341</td>\n",
       "      <td>tt1392190</td>\n",
       "      <td>28.419936</td>\n",
       "      <td>150000000</td>\n",
       "      <td>378436354</td>\n",
       "      <td>Mad Max: Fury Road</td>\n",
       "      <td>Tom Hardy|Charlize Theron|Hugh Keays-Byrne|Nic...</td>\n",
       "      <td>http://www.madmaxmovie.com/</td>\n",
       "      <td>George Miller</td>\n",
       "      <td>What a Lovely Day.</td>\n",
       "      <td>...</td>\n",
       "      <td>1</td>\n",
       "      <td>0</td>\n",
       "      <td>0</td>\n",
       "      <td>0</td>\n",
       "      <td>0</td>\n",
       "      <td>0</td>\n",
       "      <td>0</td>\n",
       "      <td>0</td>\n",
       "      <td>0</td>\n",
       "      <td>0</td>\n",
       "    </tr>\n",
       "  </tbody>\n",
       "</table>\n",
       "<p>2 rows × 42 columns</p>\n",
       "</div>"
      ],
      "text/plain": [
       "       id    imdb_id  popularity     budget     revenue      original_title  \\\n",
       "0  135397  tt0369610   32.985763  150000000  1513528810      Jurassic World   \n",
       "1   76341  tt1392190   28.419936  150000000   378436354  Mad Max: Fury Road   \n",
       "\n",
       "                                                cast  \\\n",
       "0  Chris Pratt|Bryce Dallas Howard|Irrfan Khan|Vi...   \n",
       "1  Tom Hardy|Charlize Theron|Hugh Keays-Byrne|Nic...   \n",
       "\n",
       "                        homepage         director             tagline  ...    \\\n",
       "0  http://www.jurassicworld.com/  Colin Trevorrow   The park is open.  ...     \n",
       "1    http://www.madmaxmovie.com/    George Miller  What a Lovely Day.  ...     \n",
       "\n",
       "  Science Fiction TV Movie  Fantasy Western Animation Family  Horror  War  \\\n",
       "0               1        0        0       0         0      0       0    0   \n",
       "1               1        0        0       0         0      0       0    0   \n",
       "\n",
       "   Foreign  Music  \n",
       "0        0      0  \n",
       "1        0      0  \n",
       "\n",
       "[2 rows x 42 columns]"
      ]
     },
     "execution_count": 17,
     "metadata": {},
     "output_type": "execute_result"
    }
   ],
   "source": [
    "#修改genres列使其横向显示\n",
    "for genres in genres_set:\n",
    "    df1[genres] = df1['genres'].str.contains(genres).apply(lambda x:1 if x else 0)\n",
    "df1.head(2)    "
   ]
  },
  {
   "cell_type": "code",
   "execution_count": 18,
   "metadata": {},
   "outputs": [],
   "source": [
    "genres_list=pd.DataFrame(columns = genres_set)"
   ]
  },
  {
   "cell_type": "code",
   "execution_count": 19,
   "metadata": {},
   "outputs": [],
   "source": [
    "#创建函数提前不同列和电影类型的函数\n",
    "def relationship_genres (x,y):\n",
    "    genres_list=pd.DataFrame(columns = genres_set)\n",
    "    if y == 'sum':\n",
    "        for genres in genres_set:\n",
    "            genres_list[genres]=df1.groupby(genres)[x].sum()\n",
    "    elif y == 'mean': \n",
    "        for genres in genres_set:\n",
    "            genres_list[genres]=df1.groupby(genres)[x].mean()     \n",
    "    a=[]\n",
    "    for genres in genres_set:\n",
    "        a.append(genres_list[genres][1])\n",
    "    return genres_list,a"
   ]
  },
  {
   "cell_type": "code",
   "execution_count": 20,
   "metadata": {},
   "outputs": [],
   "source": [
    "#创建一个电影类型和电影评分的表\n",
    "genres_list,a=relationship_genres('vote_average','mean')"
   ]
  },
  {
   "cell_type": "code",
   "execution_count": 21,
   "metadata": {},
   "outputs": [],
   "source": [
    "#提取电影类型\n",
    "b=genres_list.columns"
   ]
  },
  {
   "cell_type": "code",
   "execution_count": 22,
   "metadata": {},
   "outputs": [
    {
     "data": {
      "image/png": "[encoded data removed]",
      "text/plain": [
       "<Figure size 432x288 with 1 Axes>"
      ]
     },
     "metadata": {},
     "output_type": "display_data"
    }
   ],
   "source": [
    "#绘制评分和电影类型的直方图\n",
    "#由于电影类型太多先用数字代替\n",
    "plt.bar(b,a)\n",
    "plt.title(\"which kinds of movie is people's favorate? \", fontsize = 15)\n",
    "plt.ylabel('vote_average', fontsize =15) \n",
    "plt.xlabel('genres', fontsize =15)  \n",
    "plt.xticks(rotation=90)\n",
    "plt.show()"
   ]
  },
  {
   "cell_type": "code",
   "execution_count": 150,
   "metadata": {},
   "outputs": [],
   "source": [
    "#创建一个电影类型和电影评分次数的表\n",
    "genres_list,a=relationship_genres('vote_count','sum')"
   ]
  },
  {
   "cell_type": "code",
   "execution_count": 151,
   "metadata": {},
   "outputs": [
    {
     "data": {
      "image/png": "[encoded data removed]",
      "text/plain": [
       "<Figure size 432x288 with 1 Axes>"
      ]
     },
     "metadata": {},
     "output_type": "display_data"
    }
   ],
   "source": [
    "#绘制评分和电影类型的直方图\n",
    "#由于电影类型太多先用数字代替\n",
    "plt.figure(figsiz=(10,5))\n",
    "plt.bar(b,a)\n",
    "plt.title(\"which kinds of movie is people's favorate? \", fontsize = 15)\n",
    "plt.ylabel('vote_count', fontsize =15) \n",
    "plt.xlabel('genres', fontsize =15)  \n",
    "plt.xticks(rotation=90))\n",
    "plt.show()"
   ]
  },
  {
   "cell_type": "code",
   "execution_count": 152,
   "metadata": {},
   "outputs": [
    {
     "data": {
      "text/plain": [
       "Index(['Action', 'Romance', 'History', '0', 'TV Movie', 'Horror', 'Drama',\n",
       "       'Mystery', 'Fantasy', 'Documentary', 'Adventure', 'Science Fiction',\n",
       "       'Music', 'War', 'Crime', 'Foreign', 'Thriller', 'Comedy', 'Animation',\n",
       "       'Family', 'Western'],\n",
       "      dtype='object')"
      ]
     },
     "execution_count": 152,
     "metadata": {},
     "output_type": "execute_result"
    }
   ],
   "source": [
    "b"
   ]
  },
  {
   "cell_type": "markdown",
   "metadata": {},
   "source": [
    "#### 小结\n",
    "从上面的两张图表我们可以得出记录片评分最高，评分次数最多的为动作片。综合两张表动作片的评分次数和评分综合最高。因此，推断动作片是最受欢迎的电影"
   ]
  },
  {
   "cell_type": "markdown",
   "metadata": {},
   "source": [
    "### 研究问题 2：票房收入和什么有关？\n",
    "本问题研究了电影类型，电影发行年份以及电影投入和电影票房收入的关系。"
   ]
  },
  {
   "cell_type": "markdown",
   "metadata": {},
   "source": [
    "### 电影收入和电影类型的关系"
   ]
  },
  {
   "cell_type": "code",
   "execution_count": 23,
   "metadata": {},
   "outputs": [
    {
     "data": {
      "text/html": [
       "<div>\n",
       "<style scoped>\n",
       "    .dataframe tbody tr th:only-of-type {\n",
       "        vertical-align: middle;\n",
       "    }\n",
       "\n",
       "    .dataframe tbody tr th {\n",
       "        vertical-align: top;\n",
       "    }\n",
       "\n",
       "    .dataframe thead th {\n",
       "        text-align: right;\n",
       "    }\n",
       "</style>\n",
       "<table border=\"1\" class=\"dataframe\">\n",
       "  <thead>\n",
       "    <tr style=\"text-align: right;\">\n",
       "      <th></th>\n",
       "      <th>Adventure</th>\n",
       "      <th>Crime</th>\n",
       "      <th>Romance</th>\n",
       "      <th>Documentary</th>\n",
       "      <th>Thriller</th>\n",
       "      <th>History</th>\n",
       "      <th>Mystery</th>\n",
       "      <th>Action</th>\n",
       "      <th>Comedy</th>\n",
       "      <th>Drama</th>\n",
       "      <th>...</th>\n",
       "      <th>Science Fiction</th>\n",
       "      <th>TV Movie</th>\n",
       "      <th>Fantasy</th>\n",
       "      <th>Western</th>\n",
       "      <th>Animation</th>\n",
       "      <th>Family</th>\n",
       "      <th>Horror</th>\n",
       "      <th>War</th>\n",
       "      <th>Foreign</th>\n",
       "      <th>Music</th>\n",
       "    </tr>\n",
       "    <tr>\n",
       "      <th>Adventure</th>\n",
       "      <th></th>\n",
       "      <th></th>\n",
       "      <th></th>\n",
       "      <th></th>\n",
       "      <th></th>\n",
       "      <th></th>\n",
       "      <th></th>\n",
       "      <th></th>\n",
       "      <th></th>\n",
       "      <th></th>\n",
       "      <th></th>\n",
       "      <th></th>\n",
       "      <th></th>\n",
       "      <th></th>\n",
       "      <th></th>\n",
       "      <th></th>\n",
       "      <th></th>\n",
       "      <th></th>\n",
       "      <th></th>\n",
       "      <th></th>\n",
       "      <th></th>\n",
       "    </tr>\n",
       "  </thead>\n",
       "  <tbody>\n",
       "    <tr>\n",
       "      <th>0</th>\n",
       "      <td>2.834718e+07</td>\n",
       "      <td>3.946505e+07</td>\n",
       "      <td>4.060030e+07</td>\n",
       "      <td>4.172623e+07</td>\n",
       "      <td>3.913228e+07</td>\n",
       "      <td>4.007476e+07</td>\n",
       "      <td>3.979542e+07</td>\n",
       "      <td>3.055967e+07</td>\n",
       "      <td>4.106083e+07</td>\n",
       "      <td>4.808742e+07</td>\n",
       "      <td>...</td>\n",
       "      <td>3.596061e+07</td>\n",
       "      <td>4.044468e+07</td>\n",
       "      <td>3.462619e+07</td>\n",
       "      <td>4.000050e+07</td>\n",
       "      <td>3.739084e+07</td>\n",
       "      <td>3.566058e+07</td>\n",
       "      <td>4.390770e+07</td>\n",
       "      <td>3.962868e+07</td>\n",
       "      <td>4.050139e+07</td>\n",
       "      <td>4.026604e+07</td>\n",
       "    </tr>\n",
       "    <tr>\n",
       "      <th>1</th>\n",
       "      <td>1.131379e+08</td>\n",
       "      <td>4.236866e+07</td>\n",
       "      <td>3.569197e+07</td>\n",
       "      <td>2.041107e+06</td>\n",
       "      <td>4.172842e+07</td>\n",
       "      <td>3.201179e+07</td>\n",
       "      <td>4.021757e+07</td>\n",
       "      <td>7.279473e+07</td>\n",
       "      <td>3.752624e+07</td>\n",
       "      <td>2.923226e+07</td>\n",
       "      <td>...</td>\n",
       "      <td>7.014056e+07</td>\n",
       "      <td>2.514970e+05</td>\n",
       "      <td>9.631366e+07</td>\n",
       "      <td>2.856871e+07</td>\n",
       "      <td>7.525606e+07</td>\n",
       "      <td>7.243318e+07</td>\n",
       "      <td>1.682281e+07</td>\n",
       "      <td>4.760518e+07</td>\n",
       "      <td>1.520460e+06</td>\n",
       "      <td>2.857177e+07</td>\n",
       "    </tr>\n",
       "  </tbody>\n",
       "</table>\n",
       "<p>2 rows × 21 columns</p>\n",
       "</div>"
      ],
      "text/plain": [
       "              Adventure         Crime       Romance   Documentary  \\\n",
       "Adventure                                                           \n",
       "0          2.834718e+07  3.946505e+07  4.060030e+07  4.172623e+07   \n",
       "1          1.131379e+08  4.236866e+07  3.569197e+07  2.041107e+06   \n",
       "\n",
       "               Thriller       History       Mystery        Action  \\\n",
       "Adventure                                                           \n",
       "0          3.913228e+07  4.007476e+07  3.979542e+07  3.055967e+07   \n",
       "1          4.172842e+07  3.201179e+07  4.021757e+07  7.279473e+07   \n",
       "\n",
       "                 Comedy         Drama      ...       Science Fiction  \\\n",
       "Adventure                                  ...                         \n",
       "0          4.106083e+07  4.808742e+07      ...          3.596061e+07   \n",
       "1          3.752624e+07  2.923226e+07      ...          7.014056e+07   \n",
       "\n",
       "               TV Movie       Fantasy       Western     Animation  \\\n",
       "Adventure                                                           \n",
       "0          4.044468e+07  3.462619e+07  4.000050e+07  3.739084e+07   \n",
       "1          2.514970e+05  9.631366e+07  2.856871e+07  7.525606e+07   \n",
       "\n",
       "                 Family        Horror           War       Foreign  \\\n",
       "Adventure                                                           \n",
       "0          3.566058e+07  4.390770e+07  3.962868e+07  4.050139e+07   \n",
       "1          7.243318e+07  1.682281e+07  4.760518e+07  1.520460e+06   \n",
       "\n",
       "                  Music  \n",
       "Adventure                \n",
       "0          4.026604e+07  \n",
       "1          2.857177e+07  \n",
       "\n",
       "[2 rows x 21 columns]"
      ]
     },
     "execution_count": 23,
     "metadata": {},
     "output_type": "execute_result"
    }
   ],
   "source": [
    "#生成电影收入和电影类型的表\n",
    "revenue_list,a=relationship_genres('revenue','mean')\n",
    "revenue_list"
   ]
  },
  {
   "cell_type": "code",
   "execution_count": 25,
   "metadata": {},
   "outputs": [
    {
     "data": {
      "image/png": "[encoded data removed]",
      "text/plain": [
       "<Figure size 432x288 with 1 Axes>"
      ]
     },
     "metadata": {},
     "output_type": "display_data"
    }
   ],
   "source": [
    "#绘制电影收入和电影类型的直方图\n",
    "plt.bar(b,a)\n",
    "plt.title(\"relationship between genres and revenue? \", fontsize = 13)\n",
    "plt.ylabel('revenue', fontsize =15) \n",
    "plt.xlabel('genres', fontsize =15)  \n",
    "plt.xticks(rotation=90)\n",
    "plt.show()"
   ]
  },
  {
   "cell_type": "markdown",
   "metadata": {},
   "source": [
    "#### 小结\n",
    "从图中可以看出电影类在一定程度上决定了电影的收入,类型为电视电影、记录片、外语片的电影收入很低（其中3类型为缺失不予判断），收入最高的电影是冒险类型的片子。"
   ]
  },
  {
   "cell_type": "markdown",
   "metadata": {},
   "source": [
    "### 电影收入和电影发行年份的关系"
   ]
  },
  {
   "cell_type": "code",
   "execution_count": 26,
   "metadata": {},
   "outputs": [
    {
     "data": {
      "image/png": "[encoded data removed]",
      "text/plain": [
       "<Figure size 432x288 with 1 Axes>"
      ]
     },
     "metadata": {},
     "output_type": "display_data"
    }
   ],
   "source": [
    "nums = df1.groupby('release_year')['revenue'].sum()\n",
    "year = df1['release_year']\n",
    "\n",
    "nums.plot(x = year, y =nums)\n",
    "\n",
    "plt.title('relationship between release-years and revenue', fontsize = 12)\n",
    "plt.ylabel('revenue', fontsize =12) \n",
    "plt.xlabel('years', fontsize =12)  \n",
    "plt.xticks(range(1960, 2018, 10))\n",
    "plt.show()"
   ]
  },
  {
   "cell_type": "markdown",
   "metadata": {},
   "source": [
    "#### 小结\n",
    "从表中看出电影收入随发行年份的增加儿增加，这很经济增长的趋势相同，反映出电影收入随经济增长而增长。"
   ]
  },
  {
   "cell_type": "markdown",
   "metadata": {},
   "source": [
    "### 电影收入和电影投入的关系"
   ]
  },
  {
   "cell_type": "code",
   "execution_count": 37,
   "metadata": {},
   "outputs": [
    {
     "data": {
      "image/png": "[encoded data removed]",
      "text/plain": [
       "<Figure size 432x288 with 1 Axes>"
      ]
     },
     "metadata": {},
     "output_type": "display_data"
    }
   ],
   "source": [
    "nums = df1['revenue']\n",
    "budget = df1['budget']\n",
    "\n",
    "plt.scatter(budget, nums)\n",
    "\n",
    "plt.title('relationship between budget and revenue', fontsize = 12)\n",
    "plt.ylabel('revenue', fontsize =15) \n",
    "plt.xlabel('budget', fontsize =15)  \n",
    "plt.show()"
   ]
  },
  {
   "cell_type": "markdown",
   "metadata": {},
   "source": [
    "#### 小结\n",
    "从图中看出电影的收入的高低和电影投入有一定关系。当投资大于2千万时电影高收入的概率更大。说明适当的投入可以提高电影收入。"
   ]
  },
  {
   "cell_type": "markdown",
   "metadata": {},
   "source": [
    "<a id='conclusions'></a>\n",
    "## 结论\n",
    "\n",
    "这次报告可以得出最受欢迎的电影类型为动作片；电影的类型会一定程度上决定电影收入，冒险片是收入最高的电影类型；电影的收入随发行年份增加而增加，这可能是受经济发展的影响，经济越好，电影收入越高；电影的投入也影响着电影的收入，电影投入在2千万左右电影高收入概率更大。\n",
    "### 不足之处\n",
    "1.确定最受欢迎电影类型时没有定量的权衡电影评分和点评次数，只通过观察图表就得出了结论。\n",
    "2.没有深入研究发行年份和电影收入的关系。\n",
    "3.没有定量分析电影收入和电影投入的关系。"
   ]
  },
  {
   "cell_type": "code",
   "execution_count": null,
   "metadata": {},
   "outputs": [],
   "source": []
  }
 ],
 "metadata": {
  "kernelspec": {
   "display_name": "Python 3",
   "language": "python",
   "name": "python3"
  },
  "language_info": {
   "codemirror_mode": {
    "name": "ipython",
    "version": 3
   },
   "file_extension": ".py",
   "mimetype": "text/x-python",
   "name": "python",
   "nbconvert_exporter": "python",
   "pygments_lexer": "ipython3",
   "version": "3.6.5"
  }
 },
 "nbformat": 4,
 "nbformat_minor": 2
}
